{
 "cells": [
  {
   "cell_type": "code",
   "execution_count": 1,
   "metadata": {},
   "outputs": [],
   "source": [
    "import numpy as np\n",
    "\n",
    "def solve_system(a,b,c,d,k,m):\n",
    "    det=a*d-b*c\n",
    "    det1=k*d-b*m\n",
    "    det2=a*m-k*c\n",
    "    return(det1/det,det2/det)\n",
    "    \n",
    "def get_vertices(mas_a,S):\n",
    "    cnt=0\n",
    "    d=len(mas_a)\n",
    "    print(\"d=\",d)\n",
    "    groups=np.zeros(d)\n",
    "    tek_group_num=10000\n",
    "    groups[0]=tek_group_num\n",
    "    for i in range(1,d):\n",
    "        if (mas_a[i]!=mas_a[i-1]):\n",
    "            tek_group_num+=1\n",
    "        groups[i]=tek_group_num\n",
    "    \n",
    "    for i in range(d):\n",
    "        for j in range(i+1,d):\n",
    "            if (groups[i]==groups[j]):\n",
    "                continue\n",
    "            ai=mas_a[i]\n",
    "            aj=mas_a[j]\n",
    "            xi,xj=solve_system(1,1,ai,aj,1,S)\n",
    "            if (xi<0 or xj<0):\n",
    "                continue\n",
    "            otv=np.zeros(d)\n",
    "            otv[i]=xi\n",
    "            otv[j]=xj\n",
    "            list(map(lambda x:print(\"{:0.3f}\".format(x),end=' '), otv))\n",
    "            print('\\t')\n",
    "            cnt+=1\n",
    "    print(\"Total amount of vertices=\",cnt)"
   ]
  },
  {
   "cell_type": "code",
   "execution_count": 81,
   "metadata": {},
   "outputs": [
    {
     "name": "stdout",
     "output_type": "stream",
     "text": [
      "d= 4\n",
      "0.333 0.000 0.667 0.000 \t\n",
      "0.667 0.000 0.000 0.333 \t\n",
      "0.000 0.333 0.667 0.000 \t\n",
      "0.000 0.667 0.000 0.333 \t\n",
      "Total amount of vertices= 4\n"
     ]
    }
   ],
   "source": [
    "mas_a=[1,1,2,3]\n",
    "S=5/3\n",
    "get_vertices(mas_a,S)"
   ]
  },
  {
   "cell_type": "code",
   "execution_count": 82,
   "metadata": {},
   "outputs": [
    {
     "name": "stdout",
     "output_type": "stream",
     "text": [
      "d= 7\n",
      "0.333 0.000 0.667 0.000 0.000 0.000 0.000 \t\n",
      "0.333 0.000 0.000 0.667 0.000 0.000 0.000 \t\n",
      "0.667 0.000 0.000 0.000 0.333 0.000 0.000 \t\n",
      "0.667 0.000 0.000 0.000 0.000 0.333 0.000 \t\n",
      "0.778 0.000 0.000 0.000 0.000 0.000 0.222 \t\n",
      "0.000 0.333 0.667 0.000 0.000 0.000 0.000 \t\n",
      "0.000 0.333 0.000 0.667 0.000 0.000 0.000 \t\n",
      "0.000 0.667 0.000 0.000 0.333 0.000 0.000 \t\n",
      "0.000 0.667 0.000 0.000 0.000 0.333 0.000 \t\n",
      "0.000 0.778 0.000 0.000 0.000 0.000 0.222 \t\n",
      "Total amount of vertices= 10\n"
     ]
    }
   ],
   "source": [
    "mas_a=[1,1,2,2,3,3,4]\n",
    "S=5/3\n",
    "get_vertices(mas_a,S)"
   ]
  },
  {
   "cell_type": "code",
   "execution_count": 83,
   "metadata": {},
   "outputs": [
    {
     "name": "stdout",
     "output_type": "stream",
     "text": [
      "d= 7\n",
      "0.333 0.667 0.000 0.000 0.000 0.000 0.000 \t\n",
      "0.667 0.000 0.333 0.000 0.000 0.000 0.000 \t\n",
      "0.778 0.000 0.000 0.222 0.000 0.000 0.000 \t\n",
      "0.833 0.000 0.000 0.000 0.167 0.000 0.000 \t\n",
      "0.867 0.000 0.000 0.000 0.000 0.133 0.000 \t\n",
      "0.889 0.000 0.000 0.000 0.000 0.000 0.111 \t\n",
      "Total amount of vertices= 6\n"
     ]
    }
   ],
   "source": [
    "mas_a=[1,2,3,4,5,6,7]\n",
    "S=5/3\n",
    "get_vertices(mas_a,S)"
   ]
  },
  {
   "cell_type": "code",
   "execution_count": 84,
   "metadata": {},
   "outputs": [
    {
     "name": "stdout",
     "output_type": "stream",
     "text": [
      "d= 6\n",
      "0.556 0.000 0.000 0.444 0.000 0.000 \t\n",
      "0.778 0.000 0.000 0.000 0.222 0.000 \t\n",
      "0.778 0.000 0.000 0.000 0.000 0.222 \t\n",
      "0.000 0.833 0.000 0.167 0.000 0.000 \t\n",
      "0.000 0.933 0.000 0.000 0.067 0.000 \t\n",
      "0.000 0.933 0.000 0.000 0.000 0.067 \t\n",
      "0.000 0.000 0.833 0.167 0.000 0.000 \t\n",
      "0.000 0.000 0.933 0.000 0.067 0.000 \t\n",
      "0.000 0.000 0.933 0.000 0.000 0.067 \t\n",
      "Total amount of vertices= 9\n"
     ]
    }
   ],
   "source": [
    "mas_a=[1,2,2,4,7,7]\n",
    "S=7/3\n",
    "get_vertices(mas_a,S)"
   ]
  },
  {
   "cell_type": "code",
   "execution_count": 3,
   "metadata": {},
   "outputs": [
    {
     "name": "stdout",
     "output_type": "stream",
     "text": [
      "d= 9\n",
      "0.214 0.000 0.000 0.786 0.000 0.000 0.000 0.000 0.000 \t\n",
      "0.372 0.000 0.000 0.000 0.628 0.000 0.000 0.000 0.000 \t\n",
      "0.372 0.000 0.000 0.000 0.000 0.628 0.000 0.000 0.000 \t\n",
      "0.476 0.000 0.000 0.000 0.000 0.000 0.524 0.000 0.000 \t\n",
      "0.607 0.000 0.000 0.000 0.000 0.000 0.000 0.393 0.000 \t\n",
      "0.607 0.000 0.000 0.000 0.000 0.000 0.000 0.000 0.393 \t\n",
      "0.000 0.214 0.000 0.786 0.000 0.000 0.000 0.000 0.000 \t\n",
      "0.000 0.372 0.000 0.000 0.628 0.000 0.000 0.000 0.000 \t\n",
      "0.000 0.372 0.000 0.000 0.000 0.628 0.000 0.000 0.000 \t\n",
      "0.000 0.476 0.000 0.000 0.000 0.000 0.524 0.000 0.000 \t\n",
      "0.000 0.607 0.000 0.000 0.000 0.000 0.000 0.393 0.000 \t\n",
      "0.000 0.607 0.000 0.000 0.000 0.000 0.000 0.000 0.393 \t\n",
      "0.000 0.000 0.214 0.786 0.000 0.000 0.000 0.000 0.000 \t\n",
      "0.000 0.000 0.372 0.000 0.628 0.000 0.000 0.000 0.000 \t\n",
      "0.000 0.000 0.372 0.000 0.000 0.628 0.000 0.000 0.000 \t\n",
      "0.000 0.000 0.476 0.000 0.000 0.000 0.524 0.000 0.000 \t\n",
      "0.000 0.000 0.607 0.000 0.000 0.000 0.000 0.393 0.000 \t\n",
      "0.000 0.000 0.607 0.000 0.000 0.000 0.000 0.000 0.393 \t\n",
      "Total amount of vertices= 18\n"
     ]
    }
   ],
   "source": [
    "mas_a=[1.1,1.1,1.1,1.5,1.6,1.6,1.7,1.9,1.9]\n",
    "S=np.sqrt(2)\n",
    "get_vertices(mas_a,S)"
   ]
  },
  {
   "cell_type": "code",
   "execution_count": null,
   "metadata": {},
   "outputs": [],
   "source": []
  }
 ],
 "metadata": {
  "kernelspec": {
   "display_name": "Python 3",
   "language": "python",
   "name": "python3"
  },
  "language_info": {
   "codemirror_mode": {
    "name": "ipython",
    "version": 3
   },
   "file_extension": ".py",
   "mimetype": "text/x-python",
   "name": "python",
   "nbconvert_exporter": "python",
   "pygments_lexer": "ipython3",
   "version": "3.7.3"
  }
 },
 "nbformat": 4,
 "nbformat_minor": 4
}
