{
 "cells": [
  {
   "cell_type": "code",
   "execution_count": 1,
   "metadata": {},
   "outputs": [],
   "source": [
    "import numpy as np"
   ]
  },
  {
   "cell_type": "code",
   "execution_count": 2,
   "metadata": {},
   "outputs": [],
   "source": [
    "m=np.array([0.010111,0.0043532,0.0137058]).reshape(3,1)\n",
    "m1=m[0]\n",
    "m2=m[1]\n",
    "m3=m[2]\n",
    "R=0.011\n",
    "a=np.array([0.00324625,0.00022983,0.00420395,0.00022983,0.00049937,0.00019247,0.00420395,0.00019247,0.00764897]).reshape(3,3)\n",
    "b=np.linalg.inv(a)\n",
    "b11=b[0][0]\n",
    "b12=b[0][1]\n",
    "b13=b[0][2]\n",
    "b21=b[1][0]\n",
    "b22=b[1][1]\n",
    "b23=b[1][2]\n",
    "b31=b[2][0]\n",
    "b32=b[2][1]\n",
    "b33=b[2][2]"
   ]
  },
  {
   "cell_type": "code",
   "execution_count": 5,
   "metadata": {},
   "outputs": [
    {
     "name": "stdout",
     "output_type": "stream",
     "text": [
      "[[0.45423611 0.11471805 0.43104584]]\n"
     ]
    }
   ],
   "source": [
    "#real\n",
    "c11=b.sum()\n",
    "c12=b.dot(m).sum()\n",
    "c21=c12\n",
    "c22=m.T.dot(b.dot(m))[0]\n",
    "c13=2\n",
    "c23=2*R\n",
    "\n",
    "det=c11*c22-c12*c21\n",
    "det_lambda=-(c12*c23-c22*c13)\n",
    "det_eta=(c11*c23-c21*c13)\n",
    "lambd=det_lambda/det\n",
    "eta=det_eta/det\n",
    "\n",
    "u1=0.5*b.dot(lambd*np.ones(3).reshape(3,1)+eta*m)\n",
    "print(np.array(u1).reshape(1,-1))"
   ]
  },
  {
   "cell_type": "code",
   "execution_count": 17,
   "metadata": {},
   "outputs": [
    {
     "data": {
      "text/plain": [
       "array([0.        , 0.28930992, 0.71069008])"
      ]
     },
     "execution_count": 17,
     "metadata": {},
     "output_type": "execute_result"
    }
   ],
   "source": [
    "#A\n",
    "u2=np.array([0,((m3-R)/(m3-m2))[0],((R-m2)/(m3-m2))[0]])\n",
    "u2"
   ]
  },
  {
   "cell_type": "code",
   "execution_count": 18,
   "metadata": {},
   "outputs": [
    {
     "name": "stdout",
     "output_type": "stream",
     "text": [
      "mu1 is NEGATIVE 0.0009744754741479252 -0.0002006084442383491\n"
     ]
    },
    {
     "data": {
      "text/plain": [
       "array([[0.        ],\n",
       "       [0.96046835],\n",
       "       [0.03953165]])"
      ]
     },
     "execution_count": 18,
     "metadata": {},
     "output_type": "execute_result"
    }
   ],
   "source": [
    "#B\n",
    "c11=(b11+b12+b13)\n",
    "c12=b11\n",
    "c21=(b21+b22+b23+b31+b32+b33)\n",
    "c22=b21+b31\n",
    "c13=0\n",
    "c23=2\n",
    "\n",
    "det=c11*c22-c12*c21\n",
    "det_lambda=-(c12*c23-c22*c13)\n",
    "det_mu1=(c11*c23-c21*c13)\n",
    "lambd=det_lambda/det\n",
    "mu1=det_mu1/det\n",
    "print(\"mu1 is NEGATIVE\",lambd,mu1)\n",
    "\n",
    "mu=np.array([mu1,0,0]).reshape(3,1)\n",
    "u3=0.5*b.dot(lambd*np.ones(3).reshape(3,1)+mu)\n",
    "u3"
   ]
  },
  {
   "cell_type": "code",
   "execution_count": 22,
   "metadata": {},
   "outputs": [
    {
     "name": "stdout",
     "output_type": "stream",
     "text": [
      "[[0.00378678]]\n",
      "0.003984289480120709\n",
      "[[0.00048724]]\n"
     ]
    }
   ],
   "source": [
    "print(u1.T.dot(a).dot(u1))\n",
    "print(u2.T.dot(a).dot(u2))\n",
    "print(u3.T.dot(a).dot(u3))"
   ]
  },
  {
   "cell_type": "code",
   "execution_count": 23,
   "metadata": {},
   "outputs": [
    {
     "data": {
      "text/plain": [
       "1.0000000000000002"
      ]
     },
     "execution_count": 23,
     "metadata": {},
     "output_type": "execute_result"
    }
   ],
   "source": [
    "u3.sum()"
   ]
  },
  {
   "cell_type": "code",
   "execution_count": 27,
   "metadata": {},
   "outputs": [
    {
     "name": "stdout",
     "output_type": "stream",
     "text": [
      "[[0.011]] 0.011\n",
      "[0.011] 0.011\n",
      "[[0.00472292]] 0.011\n"
     ]
    }
   ],
   "source": [
    "print(u1.T.dot(m),R)\n",
    "print(u2.T.dot(m),R)\n",
    "print(u3.T.dot(m),R)"
   ]
  },
  {
   "cell_type": "code",
   "execution_count": null,
   "metadata": {},
   "outputs": [],
   "source": []
  }
 ],
 "metadata": {
  "kernelspec": {
   "display_name": "Python 3",
   "language": "python",
   "name": "python3"
  },
  "language_info": {
   "codemirror_mode": {
    "name": "ipython",
    "version": 3
   },
   "file_extension": ".py",
   "mimetype": "text/x-python",
   "name": "python",
   "nbconvert_exporter": "python",
   "pygments_lexer": "ipython3",
   "version": "3.7.3"
  }
 },
 "nbformat": 4,
 "nbformat_minor": 2
}
